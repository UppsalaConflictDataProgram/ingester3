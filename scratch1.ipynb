{
 "cells": [
  {
   "cell_type": "code",
   "execution_count": 292,
   "id": "optical-yesterday",
   "metadata": {},
   "outputs": [],
   "source": [
    "import pandas as pd\n",
    "import numpy as np\n",
    "import warnings\n",
    "from functools import partial"
   ]
  },
  {
   "cell_type": "code",
   "execution_count": 293,
   "id": "statutory-finding",
   "metadata": {},
   "outputs": [],
   "source": [
    "from __future__ import annotations\n",
    "from typing import List\n",
    "\n",
    "class Priogrid(object):\n",
    "\n",
    "    def __init__(self, id: int):\n",
    "        self.__validate_id(id)\n",
    "        self.id = id\n",
    "        self.row = self.id2row(id)\n",
    "        self.col = self.id2col(id)\n",
    "        self.lat = self.id2lat(id)\n",
    "        self.lon = self.id2lon(id)\n",
    "\n",
    "    def __repr__(self):\n",
    "        return f'Priogrid({self.id})'\n",
    "\n",
    "    def __str__(self):\n",
    "        return f'Priogrid(id={self.id}) #=> row:{self.row}, col:{self.col}, lat:{self.lat}, lon:{self.lon}'\n",
    "\n",
    "    @classmethod\n",
    "    def from_lat_lon(cls, lat: float, lon: float) -> Priogrid:\n",
    "        \"\"\"\n",
    "        A factory producing a Priogrid Object from a lat and lon\n",
    "        :param lat: A WGS84 valid lat (i.e. -90..90)\n",
    "        :param lon: A WGS84 valid lon (i.e. -180..180)\n",
    "        :return: A Priogrid Object at that position\n",
    "        \"\"\"\n",
    "        return cls(cls.latlon2id(lat, lon))\n",
    "\n",
    "\n",
    "    @classmethod\n",
    "    def from_row_col(cls, row: int, col: int) -> Priogrid:\n",
    "        \"\"\"\n",
    "        A factory producing a Priogrid Object from a row and col\n",
    "        :param row: A Priogrid valid row (i.e. 0..360)\n",
    "        :param col: A Priogrid valid col (i.e. 0..720)\n",
    "        :return: A Priogrid Object at the (row,col) position\n",
    "        \"\"\"\n",
    "        return cls(cls.rowcol2id(row, col))\n",
    "\n",
    "    def next_right(self) -> Priogrid:\n",
    "        \"\"\"\n",
    "        A factory method returning a Priogrid Object situated to the RIGHT of the currentone\n",
    "        :return: A Priogrid Object\n",
    "        \"\"\"\n",
    "        if self.col < 720:\n",
    "            return Priogrid.from_row_col(self.row, self.col+1)\n",
    "        else:\n",
    "            return None\n",
    "\n",
    "    def next_left(self) -> Priogrid:\n",
    "        if self.col > 1:\n",
    "            return Priogrid.from_row_col(self.row, self.col-1)\n",
    "        else:\n",
    "            return None\n",
    "\n",
    "    def next_down(self) -> Priogrid:\n",
    "        if self.row > 1:\n",
    "            return Priogrid.from_row_col(self.row-1, self.col)\n",
    "        else:\n",
    "            return None\n",
    "\n",
    "    def next_up(self) -> Priogrid:\n",
    "        if self.row < 360:\n",
    "            return Priogrid.from_row_col(self.row+1, self.col)\n",
    "        else:\n",
    "            return None\n",
    "\n",
    "    def rook_contiguity(self) -> List[List[Priogrid]]:\n",
    "        \"\"\"\n",
    "        Factory object, producing the rook contiguity matrix (3x3 cross convolution kernel) of the current object\n",
    "        Objects outside of edges return None.\n",
    "        :return: A matrix (2-D List of lists) of Priogrid objects representing the rook contiguity matrix\n",
    "        \"\"\"\n",
    "        up = [None, self.next_up(), None]\n",
    "        center = [self.next_left(), self, self.next_right()]\n",
    "        down = [None, self.next_down(), None]\n",
    "        return [up, center, down]\n",
    "\n",
    "    def queen_contiguity(self) -> List[List[Priogrid]]:\n",
    "        \"\"\"\n",
    "        Factory object, producing the queen contiguity matrix (3x  convolution kernel) of the current object\n",
    "        Objects outside of edges return None.\n",
    "        :return: A matrix (2-D List of lists) of Priogrid objects representing the queen contiguity matrix\n",
    "        \"\"\"\n",
    "\n",
    "        queen = self.rook_contiguity()\n",
    "        if queen[0][1] is not None:\n",
    "            queen[0][0] = queen[0][1].next_left()\n",
    "            queen[0][2] = queen[0][1].next_right()\n",
    "        if queen[2][1] is not None:\n",
    "            queen[2][0] = queen[2][1].next_left()\n",
    "            queen[2][2] = queen[2][1].next_right()\n",
    "        return queen\n",
    "\n",
    "    @classmethod\n",
    "    def id2lat(cls, id):\n",
    "        \"\"\"\n",
    "        Return a centroid latitude for a given id.\n",
    "        :param id: id\n",
    "        :return: a centroid (x.25) lat position for the cell identified by id\n",
    "        \"\"\"\n",
    "        return cls.row2lat(cls.id2row(id))\n",
    "\n",
    "    @classmethod\n",
    "    def id2lon(cls, id):\n",
    "        \"\"\"\n",
    "        Return a centroid longitude for a given id.\n",
    "        :param id: id\n",
    "        :return: a centroid (x.25) lon position for the cell identified by id\n",
    "        \"\"\"\n",
    "        return cls.col2lon(cls.id2col(id))\n",
    "\n",
    "    @classmethod\n",
    "    def latlon2id(cls, lat, lon, hard=True):\n",
    "        \"\"\"\n",
    "        Returns a Priogrid ID from a lat and lon set of floats\n",
    "        :param lat: latitude\n",
    "        :param lon: longitude\n",
    "        :return: a pg id\n",
    "        \"\"\"\n",
    "        cls.__validate_lat(lat)\n",
    "        cls.__validate_lon(lon)\n",
    "        row = cls.lat2row(lat)\n",
    "        col = cls.lon2col(lon)\n",
    "        id = cls.rowcol2id(row, col)\n",
    "        return id\n",
    "\n",
    "    @staticmethod\n",
    "    def id2row(id):\n",
    "        return int(id / 720)+1\n",
    "\n",
    "    @staticmethod\n",
    "    def id2col(id):\n",
    "        return id % 720\n",
    "\n",
    "    @staticmethod\n",
    "    def rowcol2id(row, col):\n",
    "        return (row-1)*720+col\n",
    "    \n",
    "    @staticmethod\n",
    "    def __validate_id(id):\n",
    "        if not(0<=id<=259200):\n",
    "            raise ValueError(\"ID must be between 1 and 259200\")\n",
    "    \n",
    "    @staticmethod\n",
    "    def __validate_lat(lat):\n",
    "        if not(-90<=lat<=90):\n",
    "            raise ValueError(\"Latitude must be within the [-90;90] interval\")\n",
    "    \n",
    "    @staticmethod\n",
    "    def __validate_lon(lon):\n",
    "        if not(-180<=lon<=180):\n",
    "            raise ValueError(\"Latitude must be within the [-180;180] interval\")\n",
    "\n",
    "    @staticmethod\n",
    "    def lat2row(lat):\n",
    "        Priogrid.__validate_lat(lat)\n",
    "        return int(abs(-90 - lat) / 0.5) + 1\n",
    "    \n",
    "    @staticmethod\n",
    "    def lon2col(lon):\n",
    "        Priogrid.__validate_lon(lon)\n",
    "        return int(abs(-180 - lon) / 0.5) + 1\n",
    "        \n",
    "    @staticmethod\n",
    "    def col2lon(col):\n",
    "        return (-180+(col*0.5))-0.25\n",
    "\n",
    "    @staticmethod\n",
    "    def row2lat(row):\n",
    "        return (-90+(row*0.5))-0.25"
   ]
  },
  {
   "cell_type": "code",
   "execution_count": null,
   "id": "referenced-registrar",
   "metadata": {},
   "outputs": [],
   "source": []
  },
  {
   "cell_type": "code",
   "execution_count": 302,
   "id": "improved-overview",
   "metadata": {},
   "outputs": [
    {
     "data": {
      "text/plain": [
       "12.75"
      ]
     },
     "execution_count": 302,
     "metadata": {},
     "output_type": "execute_result"
    }
   ],
   "source": [
    "pg_object.queen_contiguity()[1][1].lat"
   ]
  },
  {
   "cell_type": "code",
   "execution_count": 80,
   "id": "incident-input",
   "metadata": {},
   "outputs": [],
   "source": [
    "#Priogrid(100000).lat\n",
    "try:\n",
    "    Priogrid(2043995)\n",
    "except ValueError:\n",
    "    None"
   ]
  },
  {
   "cell_type": "code",
   "execution_count": 317,
   "id": "respective-atlas",
   "metadata": {},
   "outputs": [],
   "source": [
    "class ViewsMonth(object):\n",
    "    \n",
    "    def __init__(self,id):\n",
    "        self.__validate(id)\n",
    "        self.id = int(id)\n",
    "        self.month = self.id2month(id)\n",
    "        self.year = self.id2year(id)\n",
    "\n",
    "        \n",
    "    def __repr__(self):\n",
    "        return f'ViewsMonth({self.id})'\n",
    "\n",
    "    def __str__(self):\n",
    "        return f'ViewsMonth(id={self.id}) #=> year:{self.year}, month:{self.month}'\n",
    "    \n",
    "    @classmethod\n",
    "    def id2month(cls, id):\n",
    "        return (id-1)%12+1\n",
    "        \n",
    "    @classmethod\n",
    "    def id2year(cls, id):\n",
    "        return int((id-1)/12)+1980\n",
    "    \n",
    "    @staticmethod\n",
    "    def __validate(id):\n",
    "        if int(id)<=0:\n",
    "            raise ValueError(\"Monthid cannot be negative\")\n",
    "    \n",
    "    @staticmethod\n",
    "    def __validate_year(year):\n",
    "        if year<1980:\n",
    "            raise ValueError(\"Year must be >=1980\")\n",
    "    \n",
    "    def __validate_month(month):\n",
    "        if not(1 <= month <= 12):\n",
    "            raise ValueError(\"Month must be between 1 and 12\")\n",
    "    \n",
    "    @classmethod\n",
    "    def from_year_month(cls, year, month):\n",
    "        \"\"\"\n",
    "        A factory returning a ViewsMonth object with the proper id.\n",
    "        \"\"\"\n",
    "        cls.__validate_year(year)\n",
    "        cls.__validate_month(month)\n",
    "        return cls(int((year-1980)*12+month))"
   ]
  },
  {
   "cell_type": "code",
   "execution_count": 321,
   "id": "following-disclosure",
   "metadata": {},
   "outputs": [
    {
     "ename": "ValueError",
     "evalue": "Monthid cannot be negative",
     "output_type": "error",
     "traceback": [
      "\u001b[0;31m---------------------------------------------------------------------------\u001b[0m",
      "\u001b[0;31mValueError\u001b[0m                                Traceback (most recent call last)",
      "\u001b[0;32m<ipython-input-321-e5fa3fdb615c>\u001b[0m in \u001b[0;36m<module>\u001b[0;34m\u001b[0m\n\u001b[0;32m----> 1\u001b[0;31m \u001b[0mstr\u001b[0m\u001b[0;34m(\u001b[0m\u001b[0mViewsMonth\u001b[0m\u001b[0;34m(\u001b[0m\u001b[0;36m0\u001b[0m\u001b[0;34m)\u001b[0m\u001b[0;34m)\u001b[0m\u001b[0;34m\u001b[0m\u001b[0;34m\u001b[0m\u001b[0m\n\u001b[0m",
      "\u001b[0;32m<ipython-input-317-cc25f480f381>\u001b[0m in \u001b[0;36m__init__\u001b[0;34m(self, id)\u001b[0m\n\u001b[1;32m      2\u001b[0m \u001b[0;34m\u001b[0m\u001b[0m\n\u001b[1;32m      3\u001b[0m     \u001b[0;32mdef\u001b[0m \u001b[0m__init__\u001b[0m\u001b[0;34m(\u001b[0m\u001b[0mself\u001b[0m\u001b[0;34m,\u001b[0m\u001b[0mid\u001b[0m\u001b[0;34m)\u001b[0m\u001b[0;34m:\u001b[0m\u001b[0;34m\u001b[0m\u001b[0;34m\u001b[0m\u001b[0m\n\u001b[0;32m----> 4\u001b[0;31m         \u001b[0mself\u001b[0m\u001b[0;34m.\u001b[0m\u001b[0m__validate\u001b[0m\u001b[0;34m(\u001b[0m\u001b[0mid\u001b[0m\u001b[0;34m)\u001b[0m\u001b[0;34m\u001b[0m\u001b[0;34m\u001b[0m\u001b[0m\n\u001b[0m\u001b[1;32m      5\u001b[0m         \u001b[0mself\u001b[0m\u001b[0;34m.\u001b[0m\u001b[0mid\u001b[0m \u001b[0;34m=\u001b[0m \u001b[0mint\u001b[0m\u001b[0;34m(\u001b[0m\u001b[0mid\u001b[0m\u001b[0;34m)\u001b[0m\u001b[0;34m\u001b[0m\u001b[0;34m\u001b[0m\u001b[0m\n\u001b[1;32m      6\u001b[0m         \u001b[0mself\u001b[0m\u001b[0;34m.\u001b[0m\u001b[0mmonth\u001b[0m \u001b[0;34m=\u001b[0m \u001b[0mself\u001b[0m\u001b[0;34m.\u001b[0m\u001b[0mid2month\u001b[0m\u001b[0;34m(\u001b[0m\u001b[0mid\u001b[0m\u001b[0;34m)\u001b[0m\u001b[0;34m\u001b[0m\u001b[0;34m\u001b[0m\u001b[0m\n",
      "\u001b[0;32m<ipython-input-317-cc25f480f381>\u001b[0m in \u001b[0;36m__validate\u001b[0;34m(id)\u001b[0m\n\u001b[1;32m     25\u001b[0m     \u001b[0;32mdef\u001b[0m \u001b[0m__validate\u001b[0m\u001b[0;34m(\u001b[0m\u001b[0mid\u001b[0m\u001b[0;34m)\u001b[0m\u001b[0;34m:\u001b[0m\u001b[0;34m\u001b[0m\u001b[0;34m\u001b[0m\u001b[0m\n\u001b[1;32m     26\u001b[0m         \u001b[0;32mif\u001b[0m \u001b[0mint\u001b[0m\u001b[0;34m(\u001b[0m\u001b[0mid\u001b[0m\u001b[0;34m)\u001b[0m\u001b[0;34m<=\u001b[0m\u001b[0;36m0\u001b[0m\u001b[0;34m:\u001b[0m\u001b[0;34m\u001b[0m\u001b[0;34m\u001b[0m\u001b[0m\n\u001b[0;32m---> 27\u001b[0;31m             \u001b[0;32mraise\u001b[0m \u001b[0mValueError\u001b[0m\u001b[0;34m(\u001b[0m\u001b[0;34m\"Monthid cannot be negative\"\u001b[0m\u001b[0;34m)\u001b[0m\u001b[0;34m\u001b[0m\u001b[0;34m\u001b[0m\u001b[0m\n\u001b[0m\u001b[1;32m     28\u001b[0m \u001b[0;34m\u001b[0m\u001b[0m\n\u001b[1;32m     29\u001b[0m     \u001b[0;34m@\u001b[0m\u001b[0mstaticmethod\u001b[0m\u001b[0;34m\u001b[0m\u001b[0;34m\u001b[0m\u001b[0m\n",
      "\u001b[0;31mValueError\u001b[0m: Monthid cannot be negative"
     ]
    }
   ],
   "source": [
    "str(ViewsMonth(0))"
   ]
  },
  {
   "cell_type": "code",
   "execution_count": 21,
   "id": "fantastic-heavy",
   "metadata": {},
   "outputs": [
    {
     "data": {
      "text/plain": [
       "'ViewsMonth(id=112) #=> year:1989, month:4'"
      ]
     },
     "execution_count": 21,
     "metadata": {},
     "output_type": "execute_result"
    }
   ],
   "source": [
    "str(ViewsMonth.from_year_month(1989,4))"
   ]
  },
  {
   "cell_type": "code",
   "execution_count": 83,
   "id": "indian-enemy",
   "metadata": {},
   "outputs": [
    {
     "data": {
      "text/plain": [
       "ViewsMonth(205)"
      ]
     },
     "execution_count": 83,
     "metadata": {},
     "output_type": "execute_result"
    }
   ],
   "source": [
    "ViewsMonth.from_year_month(1997,1)"
   ]
  },
  {
   "cell_type": "code",
   "execution_count": 84,
   "id": "familiar-excess",
   "metadata": {},
   "outputs": [
    {
     "data": {
      "text/plain": [
       "ViewsMonth(216)"
      ]
     },
     "execution_count": 84,
     "metadata": {},
     "output_type": "execute_result"
    }
   ],
   "source": [
    "ViewsMonth.from_year_month(1997,12)"
   ]
  },
  {
   "cell_type": "code",
   "execution_count": 274,
   "id": "precise-establishment",
   "metadata": {},
   "outputs": [
    {
     "name": "stderr",
     "output_type": "stream",
     "text": [
      "<ipython-input-274-9319d6f63c1a>:2: UserWarning: registration of accessor <class '__main__.PgAccessor'> under name 'pg' for type <class 'pandas.core.frame.DataFrame'> is overriding a preexisting attribute with the same name.\n",
      "  class PgAccessor:\n"
     ]
    }
   ],
   "source": [
    "@pd.api.extensions.register_dataframe_accessor(\"pg\")\n",
    "class PgAccessor:\n",
    "    def __init__(self, pandas_obj):\n",
    "        self._validate(pandas_obj)\n",
    "        self._obj = pandas_obj\n",
    "        self._obj.pg_id = self._obj.pg_id.astype('int')\n",
    "    \n",
    "    @staticmethod\n",
    "    def _validate(obj):\n",
    "        #print (obj.columns)\n",
    "        if \"pg_id\" not in obj.columns:\n",
    "            raise AttributeError(\"Must have a pg_id column!\")\n",
    "        mid = obj.pg_id.copy()\n",
    "        if mid.dtypes != 'int':\n",
    "            warnings.warn('pg_id is not an integer - will try to typecast in place!')\n",
    "            mid = mid.astype('int')\n",
    "        if mid.min() < 1:\n",
    "            raise ValueError(\"Negative pg_id encountered!\")\n",
    "        if mid.max() > 259200:\n",
    "            raise ValueError(\"pg_id out of bounds!\")\n",
    "\n",
    "    @property\n",
    "    def is_unique(self):\n",
    "        \"\"\"\n",
    "        returns True is ...\n",
    "        \"\"\"\n",
    "        if pd.unique(self._obj.pg_id).size == self._obj.pg_id.size:\n",
    "            return True\n",
    "        return False\n",
    "    \n",
    "    @property\n",
    "    def lat(self):\n",
    "        return self._obj.apply(lambda x: Priogrid(x.pg_id).lat, axis=1)\n",
    "    \n",
    "    @property\n",
    "    def lon(self):\n",
    "        return self._obj.apply(lambda x: Priogrid(x.pg_id).lon, axis=1)\n",
    "        \n",
    "    @classmethod\n",
    "    def from_latlon(cls, df, lat_col='lat', lon_col='lon'):\n",
    "        z = df.copy()\n",
    "        z['pg_id']=df.apply(lambda row: Priogrid.latlon2id(lat=row[lat_col],lon=row[lon_col]),axis=1)\n",
    "        return z\n",
    "    \n",
    "    @staticmethod\n",
    "    def __soft_validate_pg(row, lat_col, lon_col):\n",
    "        try:\n",
    "            id = Priogrid.latlon2id(lat=row[lat_col],lon=row[lon_col])\n",
    "            ok = True\n",
    "        except ValueError:\n",
    "            ok = False\n",
    "        return ok\n",
    "    \n",
    "    @classmethod\n",
    "    def soft_validate_latlon(cls, df, lat_col='lat', lon_col='lon'):\n",
    "        z = df.copy()\n",
    "        soft_validator = partial(PgAccessor.__soft_validate_pg, lat_col=lat_col, lon_col=lon_col)\n",
    "        z['valid_latlon'] = z.apply(soft_validator, axis=1)\n",
    "        return z\n",
    "        "
   ]
  },
  {
   "cell_type": "code",
   "execution_count": 267,
   "id": "brown-script",
   "metadata": {},
   "outputs": [
    {
     "name": "stderr",
     "output_type": "stream",
     "text": [
      "<ipython-input-267-285d135d3b5c>:2: UserWarning: registration of accessor <class '__main__.MAccessor'> under name 'm' for type <class 'pandas.core.frame.DataFrame'> is overriding a preexisting attribute with the same name.\n",
      "  class MAccessor():\n"
     ]
    }
   ],
   "source": [
    "@pd.api.extensions.register_dataframe_accessor(\"m\")\n",
    "class MAccessor():\n",
    "    def __init__(self, pandas_obj):\n",
    "        self._validate(pandas_obj)\n",
    "        self._obj = pandas_obj\n",
    "        self._obj.month_id = self._obj.month_id.astype('int')\n",
    "    \n",
    "    @staticmethod\n",
    "    def _validate(obj):\n",
    "        #print (obj.columns)\n",
    "        if \"month_id\" not in obj.columns:\n",
    "            raise AttributeError(\"Must have a month_id column!\")\n",
    "        mid = obj.month_id.copy()\n",
    "        if mid.dtypes != 'int':\n",
    "            warnings.warn('month_id is not an integer - will try to typecast in place!')\n",
    "            mid = mid.astype('int')\n",
    "        if mid.min() < 1:\n",
    "            raise ValueError(\"Negative month_id encountered\")\n",
    "\n",
    "    @property\n",
    "    def is_unique(self):\n",
    "        if pd.unique(self._obj.month_id).size == self._obj.month_id.size:\n",
    "            return True\n",
    "        return False\n",
    "    \n",
    "    @property\n",
    "    def year(self):\n",
    "        return self._obj.apply(lambda x: ViewsMonth(x.id).year, axis=1)\n",
    "    \n",
    "    @property\n",
    "    def month(self):\n",
    "        return self._obj.apply(lambda x: ViewsMonth(x.id).month, axis=1)\n",
    "    \n",
    "    @classmethod\n",
    "    def from_year_month(cls, df, year_col='year', month_col='month'):\n",
    "        z = df.copy()\n",
    "        z['month_id']=z.apply(lambda row: ViewsMonth.from_year_month(year=row[year_col],\n",
    "                                                                      month=row[month_col]).id,\n",
    "                               axis=1)\n",
    "        return z\n",
    "    \n",
    "    @staticmethod\n",
    "    def __soft_validate_month(row, year_col, month_col):\n",
    "        try: \n",
    "            id = ViewsMonth.from_year_month(year=row[year_col],month=row[month_col]).id\n",
    "            ok = True\n",
    "        except ValueError:\n",
    "            ok = False\n",
    "        return ok\n",
    "                \n",
    "    @classmethod\n",
    "    def soft_validate_year_month(cls, df, year_col='year', month_col='month'):\n",
    "        z = df.copy()\n",
    "        soft_validator = partial(MAccessor.__soft_validate_month, year_col=year_col, month_col=month_col)\n",
    "        z['valid_year_month'] = z.apply(soft_validator, axis=1)\n",
    "        return z"
   ]
  },
  {
   "cell_type": "code",
   "execution_count": 290,
   "id": "satellite-melissa",
   "metadata": {},
   "outputs": [
    {
     "name": "stderr",
     "output_type": "stream",
     "text": [
      "<ipython-input-290-df166fe6721b>:2: UserWarning: registration of accessor <class '__main__.PGMAccessor'> under name 'pgm' for type <class 'pandas.core.frame.DataFrame'> is overriding a preexisting attribute with the same name.\n",
      "  class PGMAccessor(PgAccessor, MAccessor):\n"
     ]
    }
   ],
   "source": [
    "@pd.api.extensions.register_dataframe_accessor(\"pgm\")\n",
    "class PGMAccessor(PgAccessor, MAccessor):\n",
    "    def __init__(self, pandas_obj):\n",
    "        PgAccessor._validate(pandas_obj)\n",
    "        MAccessor._validate(pandas_obj)\n",
    "        self._obj = pandas_obj\n",
    "        self._obj.month_id = self._obj.month_id.astype('int')\n",
    "        self._obj.pg_id = self._obj.pg_id.astype('int')\n",
    "    \n",
    "    @property\n",
    "    def is_unique(self):\n",
    "        uniques = self._obj[['pg_id','month_id']].drop_duplicates().shape[0]\n",
    "        totals = self._obj.shape[0]\n",
    "        if  uniques == totals:\n",
    "            return True\n",
    "        return False\n",
    "    \n",
    "    @classmethod\n",
    "    def from_year_month_latlon(cls, df, year_col='year', month_col='month', lat_col='lat', lon_col='lon'):\n",
    "        z = df.copy()\n",
    "        z = super().from_year_month(z,year_col=year_col, month_col=month_col)\n",
    "        z = super().from_latlon(z,lat_col=lat_col,lon_col=lon_col)\n",
    "        return z\n",
    "    \n",
    "    @classmethod\n",
    "    def soft_validate_year_month_latlon(cls, df, year_col='year', month_col='month', lat_col='lat', lon_col='lon'):\n",
    "        z = df.copy()\n",
    "        z = super().soft_validate_year_month(z, year_col=year_col, month_col=month_col)\n",
    "        z = super().soft_validate_latlon(z, lat_col=lat_col, lon_col=lon_col)\n",
    "        z['valid_year_month_latlon'] = z.valid_year_month & z.valid_latlon\n",
    "        return z\n"
   ]
  },
  {
   "cell_type": "code",
   "execution_count": null,
   "id": "liked-flood",
   "metadata": {},
   "outputs": [],
   "source": []
  },
  {
   "cell_type": "code",
   "execution_count": 291,
   "id": "metallic-invention",
   "metadata": {},
   "outputs": [],
   "source": [
    "@pd.api.extensions.register_dataframe_accessor(\"c\")\n",
    "class PGMAccessor():\n",
    "    def __init__(self, pandas_obj):\n",
    "        self._validate(pandas_obj)\n",
    "        self._obj = pandas_obj\n",
    "        self._obj.month_id = self._obj.month_id.astype('int')\n",
    "        \n",
    "    def _validate(obj):\n",
    "        pass\n"
   ]
  },
  {
   "cell_type": "code",
   "execution_count": 192,
   "id": "static-crown",
   "metadata": {},
   "outputs": [],
   "source": [
    "pgm1 = pd.DataFrame({\"pg_id\":[49141,39218,53959,53959],\"month_id\":[294,293,294,294],\"data\":[1,2,4,6]})\n",
    "pgm2 = pd.DataFrame({\"pg_id\":[49141,39218,891,53959],\"month_id\":[294,293,294,294],\"data\":[1,2,4,6]})"
   ]
  },
  {
   "cell_type": "code",
   "execution_count": 286,
   "id": "rotary-expansion",
   "metadata": {},
   "outputs": [],
   "source": [
    "pgm5 = pd.DataFrame({'year':[1991,1995,1981],'month':[11,12,1],'lat':[9.2,4.2,11.2],'lon':[200.5,22.5,29.5]})"
   ]
  },
  {
   "cell_type": "code",
   "execution_count": 289,
   "id": "alleged-shoot",
   "metadata": {},
   "outputs": [
    {
     "data": {
      "text/html": [
       "<div>\n",
       "<style scoped>\n",
       "    .dataframe tbody tr th:only-of-type {\n",
       "        vertical-align: middle;\n",
       "    }\n",
       "\n",
       "    .dataframe tbody tr th {\n",
       "        vertical-align: top;\n",
       "    }\n",
       "\n",
       "    .dataframe thead th {\n",
       "        text-align: right;\n",
       "    }\n",
       "</style>\n",
       "<table border=\"1\" class=\"dataframe\">\n",
       "  <thead>\n",
       "    <tr style=\"text-align: right;\">\n",
       "      <th></th>\n",
       "      <th>year</th>\n",
       "      <th>month</th>\n",
       "      <th>lat</th>\n",
       "      <th>lon</th>\n",
       "      <th>valid_year_month</th>\n",
       "      <th>valid_latlon</th>\n",
       "      <th>valid_year_month_latlon</th>\n",
       "    </tr>\n",
       "  </thead>\n",
       "  <tbody>\n",
       "    <tr>\n",
       "      <th>0</th>\n",
       "      <td>1991</td>\n",
       "      <td>11</td>\n",
       "      <td>9.2</td>\n",
       "      <td>200.5</td>\n",
       "      <td>True</td>\n",
       "      <td>False</td>\n",
       "      <td>False</td>\n",
       "    </tr>\n",
       "    <tr>\n",
       "      <th>1</th>\n",
       "      <td>1995</td>\n",
       "      <td>12</td>\n",
       "      <td>4.2</td>\n",
       "      <td>22.5</td>\n",
       "      <td>True</td>\n",
       "      <td>True</td>\n",
       "      <td>True</td>\n",
       "    </tr>\n",
       "    <tr>\n",
       "      <th>2</th>\n",
       "      <td>1981</td>\n",
       "      <td>1</td>\n",
       "      <td>11.2</td>\n",
       "      <td>29.5</td>\n",
       "      <td>True</td>\n",
       "      <td>True</td>\n",
       "      <td>True</td>\n",
       "    </tr>\n",
       "  </tbody>\n",
       "</table>\n",
       "</div>"
      ],
      "text/plain": [
       "   year  month   lat    lon  valid_year_month  valid_latlon  \\\n",
       "0  1991     11   9.2  200.5              True         False   \n",
       "1  1995     12   4.2   22.5              True          True   \n",
       "2  1981      1  11.2   29.5              True          True   \n",
       "\n",
       "   valid_year_month_latlon  \n",
       "0                    False  \n",
       "1                     True  \n",
       "2                     True  "
      ]
     },
     "execution_count": 289,
     "metadata": {},
     "output_type": "execute_result"
    }
   ],
   "source": [
    "pd.DataFrame.pgm.soft_validate_year_month_latlon(pgm5)"
   ]
  },
  {
   "cell_type": "code",
   "execution_count": 195,
   "id": "accepting-sharing",
   "metadata": {},
   "outputs": [],
   "source": [
    "m1 = pd.DataFrame({\"month_id\":[100,101,102]})\n",
    "m2 = pd.DataFrame({\"month_id\":[100,100,102]})\n",
    "m3 = pd.DataFrame({\"month_id\":['8','349']})\n",
    "m4 = pd.DataFrame({\"month_id\":['8','9229','e']})"
   ]
  },
  {
   "cell_type": "code",
   "execution_count": 150,
   "id": "neutral-prize",
   "metadata": {},
   "outputs": [],
   "source": [
    "assert pgm2.pgm.is_unique == True\n",
    "assert pgm1.pgm.is_unique == False"
   ]
  },
  {
   "cell_type": "code",
   "execution_count": 266,
   "id": "casual-valley",
   "metadata": {},
   "outputs": [
    {
     "data": {
      "text/html": [
       "<div>\n",
       "<style scoped>\n",
       "    .dataframe tbody tr th:only-of-type {\n",
       "        vertical-align: middle;\n",
       "    }\n",
       "\n",
       "    .dataframe tbody tr th {\n",
       "        vertical-align: top;\n",
       "    }\n",
       "\n",
       "    .dataframe thead th {\n",
       "        text-align: right;\n",
       "    }\n",
       "</style>\n",
       "<table border=\"1\" class=\"dataframe\">\n",
       "  <thead>\n",
       "    <tr style=\"text-align: right;\">\n",
       "      <th></th>\n",
       "      <th>year</th>\n",
       "      <th>month</th>\n",
       "      <th>valid_year_month</th>\n",
       "    </tr>\n",
       "  </thead>\n",
       "  <tbody>\n",
       "    <tr>\n",
       "      <th>0</th>\n",
       "      <td>1991</td>\n",
       "      <td>11</td>\n",
       "      <td>True</td>\n",
       "    </tr>\n",
       "    <tr>\n",
       "      <th>1</th>\n",
       "      <td>1995</td>\n",
       "      <td>36</td>\n",
       "      <td>False</td>\n",
       "    </tr>\n",
       "    <tr>\n",
       "      <th>2</th>\n",
       "      <td>1981</td>\n",
       "      <td>1</td>\n",
       "      <td>True</td>\n",
       "    </tr>\n",
       "  </tbody>\n",
       "</table>\n",
       "</div>"
      ],
      "text/plain": [
       "   year  month  valid_year_month\n",
       "0  1991     11              True\n",
       "1  1995     36             False\n",
       "2  1981      1              True"
      ]
     },
     "execution_count": 266,
     "metadata": {},
     "output_type": "execute_result"
    }
   ],
   "source": [
    "m5 = pd.DataFrame({'year':[1991,1995,1981],'month':[11,36,1]})\n",
    "m6 = pd.DataFrame.m.soft_validate_year_month(m5)\n",
    "m6"
   ]
  },
  {
   "cell_type": "code",
   "execution_count": 313,
   "id": "dense-proposition",
   "metadata": {},
   "outputs": [
    {
     "data": {
      "text/plain": [
       "'ViewsMonth(id=0) #=> year:1980, month:12'"
      ]
     },
     "execution_count": 313,
     "metadata": {},
     "output_type": "execute_result"
    }
   ],
   "source": [
    "str(ViewsMonth(0))"
   ]
  },
  {
   "cell_type": "code",
   "execution_count": 238,
   "id": "killing-innocent",
   "metadata": {},
   "outputs": [
    {
     "data": {
      "text/plain": [
       "dtype('O')"
      ]
     },
     "execution_count": 238,
     "metadata": {},
     "output_type": "execute_result"
    }
   ],
   "source": [
    "am3.month_id.dtype"
   ]
  },
  {
   "cell_type": "code",
   "execution_count": 29,
   "id": "emerging-venezuela",
   "metadata": {},
   "outputs": [],
   "source": [
    "assert m1.m.is_unique == True\n",
    "assert m2.m.is_unique == False"
   ]
  },
  {
   "cell_type": "code",
   "execution_count": 162,
   "id": "muslim-forestry",
   "metadata": {},
   "outputs": [],
   "source": [
    "x = pd.DataFrame({\"pg_id\":[145294,145295], 'value':[100,300]})\n",
    "y = pd.DataFrame({\"pg_id\":[100,101,103,103]})\n",
    "k = pd.DataFrame({\"lat\":[2,32.4,32.4],\"lon\":[23,42,42]})"
   ]
  },
  {
   "cell_type": "code",
   "execution_count": 204,
   "id": "small-currency",
   "metadata": {},
   "outputs": [],
   "source": [
    "x = pd.DataFrame.pgm.from_year_month(pd.DataFrame.pgm.from_latlon(pgm5))"
   ]
  },
  {
   "cell_type": "code",
   "execution_count": 206,
   "id": "upset-alert",
   "metadata": {},
   "outputs": [
    {
     "data": {
      "text/plain": [
       "True"
      ]
     },
     "execution_count": 206,
     "metadata": {},
     "output_type": "execute_result"
    }
   ],
   "source": [
    "x.pgm.is_unique"
   ]
  },
  {
   "cell_type": "code",
   "execution_count": 273,
   "id": "another-tenant",
   "metadata": {},
   "outputs": [
    {
     "ename": "AttributeError",
     "evalue": "type object 'MAccessor' has no attribute '_PgAccessor__soft_validate_pg'",
     "output_type": "error",
     "traceback": [
      "\u001b[0;31m---------------------------------------------------------------------------\u001b[0m",
      "\u001b[0;31mAttributeError\u001b[0m                            Traceback (most recent call last)",
      "\u001b[0;32m<ipython-input-273-eb7bc26a3c93>\u001b[0m in \u001b[0;36m<module>\u001b[0;34m\u001b[0m\n\u001b[0;32m----> 1\u001b[0;31m \u001b[0mpd\u001b[0m\u001b[0;34m.\u001b[0m\u001b[0mDataFrame\u001b[0m\u001b[0;34m.\u001b[0m\u001b[0mpg\u001b[0m\u001b[0;34m.\u001b[0m\u001b[0msoft_validate_latlon\u001b[0m\u001b[0;34m(\u001b[0m\u001b[0mk\u001b[0m\u001b[0;34m)\u001b[0m\u001b[0;34m\u001b[0m\u001b[0;34m\u001b[0m\u001b[0m\n\u001b[0m",
      "\u001b[0;32m<ipython-input-271-b09b996963b6>\u001b[0m in \u001b[0;36msoft_validate_latlon\u001b[0;34m(cls, df, lat_col, lon_col)\u001b[0m\n\u001b[1;32m     55\u001b[0m     \u001b[0;32mdef\u001b[0m \u001b[0msoft_validate_latlon\u001b[0m\u001b[0;34m(\u001b[0m\u001b[0mcls\u001b[0m\u001b[0;34m,\u001b[0m \u001b[0mdf\u001b[0m\u001b[0;34m,\u001b[0m \u001b[0mlat_col\u001b[0m\u001b[0;34m=\u001b[0m\u001b[0;34m'lat'\u001b[0m\u001b[0;34m,\u001b[0m \u001b[0mlon_col\u001b[0m\u001b[0;34m=\u001b[0m\u001b[0;34m'lon'\u001b[0m\u001b[0;34m)\u001b[0m\u001b[0;34m:\u001b[0m\u001b[0;34m\u001b[0m\u001b[0;34m\u001b[0m\u001b[0m\n\u001b[1;32m     56\u001b[0m         \u001b[0mz\u001b[0m \u001b[0;34m=\u001b[0m \u001b[0mdf\u001b[0m\u001b[0;34m.\u001b[0m\u001b[0mcopy\u001b[0m\u001b[0;34m(\u001b[0m\u001b[0;34m)\u001b[0m\u001b[0;34m\u001b[0m\u001b[0;34m\u001b[0m\u001b[0m\n\u001b[0;32m---> 57\u001b[0;31m         \u001b[0msoft_validator\u001b[0m \u001b[0;34m=\u001b[0m \u001b[0mpartial\u001b[0m\u001b[0;34m(\u001b[0m\u001b[0mMAccessor\u001b[0m\u001b[0;34m.\u001b[0m\u001b[0m__soft_validate_pg\u001b[0m\u001b[0;34m,\u001b[0m \u001b[0mlat_col\u001b[0m\u001b[0;34m=\u001b[0m\u001b[0mlat_col\u001b[0m\u001b[0;34m,\u001b[0m \u001b[0mlon_col\u001b[0m\u001b[0;34m=\u001b[0m\u001b[0mlon_col\u001b[0m\u001b[0;34m)\u001b[0m\u001b[0;34m\u001b[0m\u001b[0;34m\u001b[0m\u001b[0m\n\u001b[0m\u001b[1;32m     58\u001b[0m         \u001b[0mz\u001b[0m\u001b[0;34m[\u001b[0m\u001b[0;34m'valid_latlon'\u001b[0m\u001b[0;34m]\u001b[0m \u001b[0;34m=\u001b[0m \u001b[0mz\u001b[0m\u001b[0;34m.\u001b[0m\u001b[0mapply\u001b[0m\u001b[0;34m(\u001b[0m\u001b[0msoft_validator\u001b[0m\u001b[0;34m,\u001b[0m \u001b[0maxis\u001b[0m\u001b[0;34m=\u001b[0m\u001b[0;36m1\u001b[0m\u001b[0;34m)\u001b[0m\u001b[0;34m\u001b[0m\u001b[0;34m\u001b[0m\u001b[0m\n\u001b[1;32m     59\u001b[0m         \u001b[0;32mreturn\u001b[0m \u001b[0mz\u001b[0m\u001b[0;34m\u001b[0m\u001b[0;34m\u001b[0m\u001b[0m\n",
      "\u001b[0;31mAttributeError\u001b[0m: type object 'MAccessor' has no attribute '_PgAccessor__soft_validate_pg'"
     ]
    }
   ],
   "source": [
    "pd.DataFrame.pg.soft_validate_latlon(k)"
   ]
  },
  {
   "cell_type": "code",
   "execution_count": 327,
   "id": "joined-boring",
   "metadata": {},
   "outputs": [
    {
     "data": {
      "text/html": [
       "<div>\n",
       "<style scoped>\n",
       "    .dataframe tbody tr th:only-of-type {\n",
       "        vertical-align: middle;\n",
       "    }\n",
       "\n",
       "    .dataframe tbody tr th {\n",
       "        vertical-align: top;\n",
       "    }\n",
       "\n",
       "    .dataframe thead th {\n",
       "        text-align: right;\n",
       "    }\n",
       "</style>\n",
       "<table border=\"1\" class=\"dataframe\">\n",
       "  <thead>\n",
       "    <tr style=\"text-align: right;\">\n",
       "      <th></th>\n",
       "      <th>lat</th>\n",
       "      <th>lon</th>\n",
       "      <th>pg_id</th>\n",
       "    </tr>\n",
       "  </thead>\n",
       "  <tbody>\n",
       "    <tr>\n",
       "      <th>0</th>\n",
       "      <td>2.0</td>\n",
       "      <td>23203</td>\n",
       "      <td>179247</td>\n",
       "    </tr>\n",
       "    <tr>\n",
       "      <th>1</th>\n",
       "      <td>32.4</td>\n",
       "      <td>42</td>\n",
       "      <td>176125</td>\n",
       "    </tr>\n",
       "    <tr>\n",
       "      <th>2</th>\n",
       "      <td>32.4</td>\n",
       "      <td>42</td>\n",
       "      <td>176125</td>\n",
       "    </tr>\n",
       "  </tbody>\n",
       "</table>\n",
       "</div>"
      ],
      "text/plain": [
       "    lat    lon   pg_id\n",
       "0   2.0  23203  179247\n",
       "1  32.4     42  176125\n",
       "2  32.4     42  176125"
      ]
     },
     "execution_count": 327,
     "metadata": {},
     "output_type": "execute_result"
    }
   ],
   "source": [
    "k = pd.DataFrame({\"lat\":[2,32.4,32.4],\"lon\":[23203,42,42]})\n",
    "k = pd.DataFrame.pg.from_latlon(k)\n",
    "k"
   ]
  },
  {
   "cell_type": "code",
   "execution_count": null,
   "id": "tested-grounds",
   "metadata": {},
   "outputs": [],
   "source": []
  },
  {
   "cell_type": "code",
   "execution_count": null,
   "id": "included-reminder",
   "metadata": {},
   "outputs": [],
   "source": []
  },
  {
   "cell_type": "code",
   "execution_count": 275,
   "id": "disturbed-dispatch",
   "metadata": {},
   "outputs": [],
   "source": [
    "k = pd.DataFrame({\"lat\":[2,32.4,52.4],\"lon\":[923.7,42.3,42.1],\"value\":[5,29,21]})"
   ]
  },
  {
   "cell_type": "code",
   "execution_count": 264,
   "id": "blond-carroll",
   "metadata": {},
   "outputs": [
    {
     "data": {
      "text/html": [
       "<div>\n",
       "<style scoped>\n",
       "    .dataframe tbody tr th:only-of-type {\n",
       "        vertical-align: middle;\n",
       "    }\n",
       "\n",
       "    .dataframe tbody tr th {\n",
       "        vertical-align: top;\n",
       "    }\n",
       "\n",
       "    .dataframe thead th {\n",
       "        text-align: right;\n",
       "    }\n",
       "</style>\n",
       "<table border=\"1\" class=\"dataframe\">\n",
       "  <thead>\n",
       "    <tr style=\"text-align: right;\">\n",
       "      <th></th>\n",
       "      <th>lat</th>\n",
       "      <th>lon</th>\n",
       "      <th>value</th>\n",
       "    </tr>\n",
       "  </thead>\n",
       "  <tbody>\n",
       "    <tr>\n",
       "      <th>0</th>\n",
       "      <td>2.0</td>\n",
       "      <td>923.7</td>\n",
       "      <td>5</td>\n",
       "    </tr>\n",
       "    <tr>\n",
       "      <th>1</th>\n",
       "      <td>32.4</td>\n",
       "      <td>42.3</td>\n",
       "      <td>29</td>\n",
       "    </tr>\n",
       "    <tr>\n",
       "      <th>2</th>\n",
       "      <td>52.4</td>\n",
       "      <td>42.1</td>\n",
       "      <td>21</td>\n",
       "    </tr>\n",
       "  </tbody>\n",
       "</table>\n",
       "</div>"
      ],
      "text/plain": [
       "    lat    lon  value\n",
       "0   2.0  923.7      5\n",
       "1  32.4   42.3     29\n",
       "2  52.4   42.1     21"
      ]
     },
     "execution_count": 264,
     "metadata": {},
     "output_type": "execute_result"
    }
   ],
   "source": [
    "k"
   ]
  },
  {
   "cell_type": "code",
   "execution_count": 277,
   "id": "sustainable-south",
   "metadata": {},
   "outputs": [
    {
     "data": {
      "text/html": [
       "<div>\n",
       "<style scoped>\n",
       "    .dataframe tbody tr th:only-of-type {\n",
       "        vertical-align: middle;\n",
       "    }\n",
       "\n",
       "    .dataframe tbody tr th {\n",
       "        vertical-align: top;\n",
       "    }\n",
       "\n",
       "    .dataframe thead th {\n",
       "        text-align: right;\n",
       "    }\n",
       "</style>\n",
       "<table border=\"1\" class=\"dataframe\">\n",
       "  <thead>\n",
       "    <tr style=\"text-align: right;\">\n",
       "      <th></th>\n",
       "      <th>lat</th>\n",
       "      <th>lon</th>\n",
       "      <th>value</th>\n",
       "      <th>valid_latlon</th>\n",
       "    </tr>\n",
       "  </thead>\n",
       "  <tbody>\n",
       "    <tr>\n",
       "      <th>0</th>\n",
       "      <td>2.0</td>\n",
       "      <td>923.7</td>\n",
       "      <td>5</td>\n",
       "      <td>False</td>\n",
       "    </tr>\n",
       "    <tr>\n",
       "      <th>1</th>\n",
       "      <td>32.4</td>\n",
       "      <td>42.3</td>\n",
       "      <td>29</td>\n",
       "      <td>True</td>\n",
       "    </tr>\n",
       "    <tr>\n",
       "      <th>2</th>\n",
       "      <td>52.4</td>\n",
       "      <td>42.1</td>\n",
       "      <td>21</td>\n",
       "      <td>True</td>\n",
       "    </tr>\n",
       "  </tbody>\n",
       "</table>\n",
       "</div>"
      ],
      "text/plain": [
       "    lat    lon  value  valid_latlon\n",
       "0   2.0  923.7      5         False\n",
       "1  32.4   42.3     29          True\n",
       "2  52.4   42.1     21          True"
      ]
     },
     "execution_count": 277,
     "metadata": {},
     "output_type": "execute_result"
    }
   ],
   "source": [
    "pd.DataFrame.pg.soft_validate_latlon(k)"
   ]
  },
  {
   "cell_type": "code",
   "execution_count": 284,
   "id": "chubby-wesley",
   "metadata": {},
   "outputs": [
    {
     "data": {
      "text/html": [
       "<div>\n",
       "<style scoped>\n",
       "    .dataframe tbody tr th:only-of-type {\n",
       "        vertical-align: middle;\n",
       "    }\n",
       "\n",
       "    .dataframe tbody tr th {\n",
       "        vertical-align: top;\n",
       "    }\n",
       "\n",
       "    .dataframe thead th {\n",
       "        text-align: right;\n",
       "    }\n",
       "</style>\n",
       "<table border=\"1\" class=\"dataframe\">\n",
       "  <thead>\n",
       "    <tr style=\"text-align: right;\">\n",
       "      <th></th>\n",
       "      <th>a</th>\n",
       "      <th>b</th>\n",
       "      <th>c</th>\n",
       "    </tr>\n",
       "  </thead>\n",
       "  <tbody>\n",
       "    <tr>\n",
       "      <th>0</th>\n",
       "      <td>False</td>\n",
       "      <td>False</td>\n",
       "      <td>False</td>\n",
       "    </tr>\n",
       "    <tr>\n",
       "      <th>1</th>\n",
       "      <td>True</td>\n",
       "      <td>False</td>\n",
       "      <td>False</td>\n",
       "    </tr>\n",
       "    <tr>\n",
       "      <th>2</th>\n",
       "      <td>False</td>\n",
       "      <td>True</td>\n",
       "      <td>False</td>\n",
       "    </tr>\n",
       "    <tr>\n",
       "      <th>3</th>\n",
       "      <td>True</td>\n",
       "      <td>True</td>\n",
       "      <td>True</td>\n",
       "    </tr>\n",
       "  </tbody>\n",
       "</table>\n",
       "</div>"
      ],
      "text/plain": [
       "       a      b      c\n",
       "0  False  False  False\n",
       "1   True  False  False\n",
       "2  False   True  False\n",
       "3   True   True   True"
      ]
     },
     "execution_count": 284,
     "metadata": {},
     "output_type": "execute_result"
    }
   ],
   "source": [
    "aaa = pd.DataFrame({'a':[False,True,False,True],'b':[False,False,True,True]})\n",
    "aaa['c']=aaa.a & aaa.b\n",
    "aaa"
   ]
  },
  {
   "cell_type": "code",
   "execution_count": 276,
   "id": "controversial-accordance",
   "metadata": {},
   "outputs": [
    {
     "ename": "ValueError",
     "evalue": "Latitude must be within the [-180;180] interval",
     "output_type": "error",
     "traceback": [
      "\u001b[0;31m---------------------------------------------------------------------------\u001b[0m",
      "\u001b[0;31mValueError\u001b[0m                                Traceback (most recent call last)",
      "\u001b[0;32m<ipython-input-276-c35a3cf08f8d>\u001b[0m in \u001b[0;36m<module>\u001b[0;34m\u001b[0m\n\u001b[0;32m----> 1\u001b[0;31m \u001b[0mpg_k\u001b[0m \u001b[0;34m=\u001b[0m \u001b[0mpd\u001b[0m\u001b[0;34m.\u001b[0m\u001b[0mDataFrame\u001b[0m\u001b[0;34m.\u001b[0m\u001b[0mpg\u001b[0m\u001b[0;34m.\u001b[0m\u001b[0mfrom_latlon\u001b[0m\u001b[0;34m(\u001b[0m\u001b[0mk\u001b[0m\u001b[0;34m)\u001b[0m\u001b[0;34m\u001b[0m\u001b[0;34m\u001b[0m\u001b[0m\n\u001b[0m",
      "\u001b[0;32m<ipython-input-274-9319d6f63c1a>\u001b[0m in \u001b[0;36mfrom_latlon\u001b[0;34m(cls, df, lat_col, lon_col)\u001b[0m\n\u001b[1;32m     40\u001b[0m     \u001b[0;32mdef\u001b[0m \u001b[0mfrom_latlon\u001b[0m\u001b[0;34m(\u001b[0m\u001b[0mcls\u001b[0m\u001b[0;34m,\u001b[0m \u001b[0mdf\u001b[0m\u001b[0;34m,\u001b[0m \u001b[0mlat_col\u001b[0m\u001b[0;34m=\u001b[0m\u001b[0;34m'lat'\u001b[0m\u001b[0;34m,\u001b[0m \u001b[0mlon_col\u001b[0m\u001b[0;34m=\u001b[0m\u001b[0;34m'lon'\u001b[0m\u001b[0;34m)\u001b[0m\u001b[0;34m:\u001b[0m\u001b[0;34m\u001b[0m\u001b[0;34m\u001b[0m\u001b[0m\n\u001b[1;32m     41\u001b[0m         \u001b[0mz\u001b[0m \u001b[0;34m=\u001b[0m \u001b[0mdf\u001b[0m\u001b[0;34m.\u001b[0m\u001b[0mcopy\u001b[0m\u001b[0;34m(\u001b[0m\u001b[0;34m)\u001b[0m\u001b[0;34m\u001b[0m\u001b[0;34m\u001b[0m\u001b[0m\n\u001b[0;32m---> 42\u001b[0;31m         \u001b[0mz\u001b[0m\u001b[0;34m[\u001b[0m\u001b[0;34m'pg_id'\u001b[0m\u001b[0;34m]\u001b[0m\u001b[0;34m=\u001b[0m\u001b[0mdf\u001b[0m\u001b[0;34m.\u001b[0m\u001b[0mapply\u001b[0m\u001b[0;34m(\u001b[0m\u001b[0;32mlambda\u001b[0m \u001b[0mrow\u001b[0m\u001b[0;34m:\u001b[0m \u001b[0mPriogrid\u001b[0m\u001b[0;34m.\u001b[0m\u001b[0mlatlon2id\u001b[0m\u001b[0;34m(\u001b[0m\u001b[0mlat\u001b[0m\u001b[0;34m=\u001b[0m\u001b[0mrow\u001b[0m\u001b[0;34m[\u001b[0m\u001b[0mlat_col\u001b[0m\u001b[0;34m]\u001b[0m\u001b[0;34m,\u001b[0m\u001b[0mlon\u001b[0m\u001b[0;34m=\u001b[0m\u001b[0mrow\u001b[0m\u001b[0;34m[\u001b[0m\u001b[0mlon_col\u001b[0m\u001b[0;34m]\u001b[0m\u001b[0;34m)\u001b[0m\u001b[0;34m,\u001b[0m\u001b[0maxis\u001b[0m\u001b[0;34m=\u001b[0m\u001b[0;36m1\u001b[0m\u001b[0;34m)\u001b[0m\u001b[0;34m\u001b[0m\u001b[0;34m\u001b[0m\u001b[0m\n\u001b[0m\u001b[1;32m     43\u001b[0m         \u001b[0;32mreturn\u001b[0m \u001b[0mz\u001b[0m\u001b[0;34m\u001b[0m\u001b[0;34m\u001b[0m\u001b[0m\n\u001b[1;32m     44\u001b[0m \u001b[0;34m\u001b[0m\u001b[0m\n",
      "\u001b[0;32m~/miniconda3/envs/ingester3/lib/python3.8/site-packages/pandas/core/frame.py\u001b[0m in \u001b[0;36mapply\u001b[0;34m(self, func, axis, raw, result_type, args, **kwds)\u001b[0m\n\u001b[1;32m   7766\u001b[0m             \u001b[0mkwds\u001b[0m\u001b[0;34m=\u001b[0m\u001b[0mkwds\u001b[0m\u001b[0;34m,\u001b[0m\u001b[0;34m\u001b[0m\u001b[0;34m\u001b[0m\u001b[0m\n\u001b[1;32m   7767\u001b[0m         )\n\u001b[0;32m-> 7768\u001b[0;31m         \u001b[0;32mreturn\u001b[0m \u001b[0mop\u001b[0m\u001b[0;34m.\u001b[0m\u001b[0mget_result\u001b[0m\u001b[0;34m(\u001b[0m\u001b[0;34m)\u001b[0m\u001b[0;34m\u001b[0m\u001b[0;34m\u001b[0m\u001b[0m\n\u001b[0m\u001b[1;32m   7769\u001b[0m \u001b[0;34m\u001b[0m\u001b[0m\n\u001b[1;32m   7770\u001b[0m     \u001b[0;32mdef\u001b[0m \u001b[0mapplymap\u001b[0m\u001b[0;34m(\u001b[0m\u001b[0mself\u001b[0m\u001b[0;34m,\u001b[0m \u001b[0mfunc\u001b[0m\u001b[0;34m,\u001b[0m \u001b[0mna_action\u001b[0m\u001b[0;34m:\u001b[0m \u001b[0mOptional\u001b[0m\u001b[0;34m[\u001b[0m\u001b[0mstr\u001b[0m\u001b[0;34m]\u001b[0m \u001b[0;34m=\u001b[0m \u001b[0;32mNone\u001b[0m\u001b[0;34m)\u001b[0m \u001b[0;34m->\u001b[0m \u001b[0mDataFrame\u001b[0m\u001b[0;34m:\u001b[0m\u001b[0;34m\u001b[0m\u001b[0;34m\u001b[0m\u001b[0m\n",
      "\u001b[0;32m~/miniconda3/envs/ingester3/lib/python3.8/site-packages/pandas/core/apply.py\u001b[0m in \u001b[0;36mget_result\u001b[0;34m(self)\u001b[0m\n\u001b[1;32m    183\u001b[0m             \u001b[0;32mreturn\u001b[0m \u001b[0mself\u001b[0m\u001b[0;34m.\u001b[0m\u001b[0mapply_raw\u001b[0m\u001b[0;34m(\u001b[0m\u001b[0;34m)\u001b[0m\u001b[0;34m\u001b[0m\u001b[0;34m\u001b[0m\u001b[0m\n\u001b[1;32m    184\u001b[0m \u001b[0;34m\u001b[0m\u001b[0m\n\u001b[0;32m--> 185\u001b[0;31m         \u001b[0;32mreturn\u001b[0m \u001b[0mself\u001b[0m\u001b[0;34m.\u001b[0m\u001b[0mapply_standard\u001b[0m\u001b[0;34m(\u001b[0m\u001b[0;34m)\u001b[0m\u001b[0;34m\u001b[0m\u001b[0;34m\u001b[0m\u001b[0m\n\u001b[0m\u001b[1;32m    186\u001b[0m \u001b[0;34m\u001b[0m\u001b[0m\n\u001b[1;32m    187\u001b[0m     \u001b[0;32mdef\u001b[0m \u001b[0mapply_empty_result\u001b[0m\u001b[0;34m(\u001b[0m\u001b[0mself\u001b[0m\u001b[0;34m)\u001b[0m\u001b[0;34m:\u001b[0m\u001b[0;34m\u001b[0m\u001b[0;34m\u001b[0m\u001b[0m\n",
      "\u001b[0;32m~/miniconda3/envs/ingester3/lib/python3.8/site-packages/pandas/core/apply.py\u001b[0m in \u001b[0;36mapply_standard\u001b[0;34m(self)\u001b[0m\n\u001b[1;32m    274\u001b[0m \u001b[0;34m\u001b[0m\u001b[0m\n\u001b[1;32m    275\u001b[0m     \u001b[0;32mdef\u001b[0m \u001b[0mapply_standard\u001b[0m\u001b[0;34m(\u001b[0m\u001b[0mself\u001b[0m\u001b[0;34m)\u001b[0m\u001b[0;34m:\u001b[0m\u001b[0;34m\u001b[0m\u001b[0;34m\u001b[0m\u001b[0m\n\u001b[0;32m--> 276\u001b[0;31m         \u001b[0mresults\u001b[0m\u001b[0;34m,\u001b[0m \u001b[0mres_index\u001b[0m \u001b[0;34m=\u001b[0m \u001b[0mself\u001b[0m\u001b[0;34m.\u001b[0m\u001b[0mapply_series_generator\u001b[0m\u001b[0;34m(\u001b[0m\u001b[0;34m)\u001b[0m\u001b[0;34m\u001b[0m\u001b[0;34m\u001b[0m\u001b[0m\n\u001b[0m\u001b[1;32m    277\u001b[0m \u001b[0;34m\u001b[0m\u001b[0m\n\u001b[1;32m    278\u001b[0m         \u001b[0;31m# wrap results\u001b[0m\u001b[0;34m\u001b[0m\u001b[0;34m\u001b[0m\u001b[0;34m\u001b[0m\u001b[0m\n",
      "\u001b[0;32m~/miniconda3/envs/ingester3/lib/python3.8/site-packages/pandas/core/apply.py\u001b[0m in \u001b[0;36mapply_series_generator\u001b[0;34m(self)\u001b[0m\n\u001b[1;32m    288\u001b[0m             \u001b[0;32mfor\u001b[0m \u001b[0mi\u001b[0m\u001b[0;34m,\u001b[0m \u001b[0mv\u001b[0m \u001b[0;32min\u001b[0m \u001b[0menumerate\u001b[0m\u001b[0;34m(\u001b[0m\u001b[0mseries_gen\u001b[0m\u001b[0;34m)\u001b[0m\u001b[0;34m:\u001b[0m\u001b[0;34m\u001b[0m\u001b[0;34m\u001b[0m\u001b[0m\n\u001b[1;32m    289\u001b[0m                 \u001b[0;31m# ignore SettingWithCopy here in case the user mutates\u001b[0m\u001b[0;34m\u001b[0m\u001b[0;34m\u001b[0m\u001b[0;34m\u001b[0m\u001b[0m\n\u001b[0;32m--> 290\u001b[0;31m                 \u001b[0mresults\u001b[0m\u001b[0;34m[\u001b[0m\u001b[0mi\u001b[0m\u001b[0;34m]\u001b[0m \u001b[0;34m=\u001b[0m \u001b[0mself\u001b[0m\u001b[0;34m.\u001b[0m\u001b[0mf\u001b[0m\u001b[0;34m(\u001b[0m\u001b[0mv\u001b[0m\u001b[0;34m)\u001b[0m\u001b[0;34m\u001b[0m\u001b[0;34m\u001b[0m\u001b[0m\n\u001b[0m\u001b[1;32m    291\u001b[0m                 \u001b[0;32mif\u001b[0m \u001b[0misinstance\u001b[0m\u001b[0;34m(\u001b[0m\u001b[0mresults\u001b[0m\u001b[0;34m[\u001b[0m\u001b[0mi\u001b[0m\u001b[0;34m]\u001b[0m\u001b[0;34m,\u001b[0m \u001b[0mABCSeries\u001b[0m\u001b[0;34m)\u001b[0m\u001b[0;34m:\u001b[0m\u001b[0;34m\u001b[0m\u001b[0;34m\u001b[0m\u001b[0m\n\u001b[1;32m    292\u001b[0m                     \u001b[0;31m# If we have a view on v, we need to make a copy because\u001b[0m\u001b[0;34m\u001b[0m\u001b[0;34m\u001b[0m\u001b[0;34m\u001b[0m\u001b[0m\n",
      "\u001b[0;32m<ipython-input-274-9319d6f63c1a>\u001b[0m in \u001b[0;36m<lambda>\u001b[0;34m(row)\u001b[0m\n\u001b[1;32m     40\u001b[0m     \u001b[0;32mdef\u001b[0m \u001b[0mfrom_latlon\u001b[0m\u001b[0;34m(\u001b[0m\u001b[0mcls\u001b[0m\u001b[0;34m,\u001b[0m \u001b[0mdf\u001b[0m\u001b[0;34m,\u001b[0m \u001b[0mlat_col\u001b[0m\u001b[0;34m=\u001b[0m\u001b[0;34m'lat'\u001b[0m\u001b[0;34m,\u001b[0m \u001b[0mlon_col\u001b[0m\u001b[0;34m=\u001b[0m\u001b[0;34m'lon'\u001b[0m\u001b[0;34m)\u001b[0m\u001b[0;34m:\u001b[0m\u001b[0;34m\u001b[0m\u001b[0;34m\u001b[0m\u001b[0m\n\u001b[1;32m     41\u001b[0m         \u001b[0mz\u001b[0m \u001b[0;34m=\u001b[0m \u001b[0mdf\u001b[0m\u001b[0;34m.\u001b[0m\u001b[0mcopy\u001b[0m\u001b[0;34m(\u001b[0m\u001b[0;34m)\u001b[0m\u001b[0;34m\u001b[0m\u001b[0;34m\u001b[0m\u001b[0m\n\u001b[0;32m---> 42\u001b[0;31m         \u001b[0mz\u001b[0m\u001b[0;34m[\u001b[0m\u001b[0;34m'pg_id'\u001b[0m\u001b[0;34m]\u001b[0m\u001b[0;34m=\u001b[0m\u001b[0mdf\u001b[0m\u001b[0;34m.\u001b[0m\u001b[0mapply\u001b[0m\u001b[0;34m(\u001b[0m\u001b[0;32mlambda\u001b[0m \u001b[0mrow\u001b[0m\u001b[0;34m:\u001b[0m \u001b[0mPriogrid\u001b[0m\u001b[0;34m.\u001b[0m\u001b[0mlatlon2id\u001b[0m\u001b[0;34m(\u001b[0m\u001b[0mlat\u001b[0m\u001b[0;34m=\u001b[0m\u001b[0mrow\u001b[0m\u001b[0;34m[\u001b[0m\u001b[0mlat_col\u001b[0m\u001b[0;34m]\u001b[0m\u001b[0;34m,\u001b[0m\u001b[0mlon\u001b[0m\u001b[0;34m=\u001b[0m\u001b[0mrow\u001b[0m\u001b[0;34m[\u001b[0m\u001b[0mlon_col\u001b[0m\u001b[0;34m]\u001b[0m\u001b[0;34m)\u001b[0m\u001b[0;34m,\u001b[0m\u001b[0maxis\u001b[0m\u001b[0;34m=\u001b[0m\u001b[0;36m1\u001b[0m\u001b[0;34m)\u001b[0m\u001b[0;34m\u001b[0m\u001b[0;34m\u001b[0m\u001b[0m\n\u001b[0m\u001b[1;32m     43\u001b[0m         \u001b[0;32mreturn\u001b[0m \u001b[0mz\u001b[0m\u001b[0;34m\u001b[0m\u001b[0;34m\u001b[0m\u001b[0m\n\u001b[1;32m     44\u001b[0m \u001b[0;34m\u001b[0m\u001b[0m\n",
      "\u001b[0;32m<ipython-input-73-7e66755695b7>\u001b[0m in \u001b[0;36mlatlon2id\u001b[0;34m(cls, lat, lon, hard)\u001b[0m\n\u001b[1;32m    121\u001b[0m         \"\"\"\n\u001b[1;32m    122\u001b[0m         \u001b[0mcls\u001b[0m\u001b[0;34m.\u001b[0m\u001b[0m__validate_lat\u001b[0m\u001b[0;34m(\u001b[0m\u001b[0mlat\u001b[0m\u001b[0;34m)\u001b[0m\u001b[0;34m\u001b[0m\u001b[0;34m\u001b[0m\u001b[0m\n\u001b[0;32m--> 123\u001b[0;31m         \u001b[0mcls\u001b[0m\u001b[0;34m.\u001b[0m\u001b[0m__validate_lon\u001b[0m\u001b[0;34m(\u001b[0m\u001b[0mlon\u001b[0m\u001b[0;34m)\u001b[0m\u001b[0;34m\u001b[0m\u001b[0;34m\u001b[0m\u001b[0m\n\u001b[0m\u001b[1;32m    124\u001b[0m         \u001b[0mrow\u001b[0m \u001b[0;34m=\u001b[0m \u001b[0mcls\u001b[0m\u001b[0;34m.\u001b[0m\u001b[0mlat2row\u001b[0m\u001b[0;34m(\u001b[0m\u001b[0mlat\u001b[0m\u001b[0;34m)\u001b[0m\u001b[0;34m\u001b[0m\u001b[0;34m\u001b[0m\u001b[0m\n\u001b[1;32m    125\u001b[0m         \u001b[0mcol\u001b[0m \u001b[0;34m=\u001b[0m \u001b[0mcls\u001b[0m\u001b[0;34m.\u001b[0m\u001b[0mlon2col\u001b[0m\u001b[0;34m(\u001b[0m\u001b[0mlon\u001b[0m\u001b[0;34m)\u001b[0m\u001b[0;34m\u001b[0m\u001b[0;34m\u001b[0m\u001b[0m\n",
      "\u001b[0;32m<ipython-input-73-7e66755695b7>\u001b[0m in \u001b[0;36m__validate_lon\u001b[0;34m(lon)\u001b[0m\n\u001b[1;32m    152\u001b[0m     \u001b[0;32mdef\u001b[0m \u001b[0m__validate_lon\u001b[0m\u001b[0;34m(\u001b[0m\u001b[0mlon\u001b[0m\u001b[0;34m)\u001b[0m\u001b[0;34m:\u001b[0m\u001b[0;34m\u001b[0m\u001b[0;34m\u001b[0m\u001b[0m\n\u001b[1;32m    153\u001b[0m         \u001b[0;32mif\u001b[0m \u001b[0;32mnot\u001b[0m\u001b[0;34m(\u001b[0m\u001b[0;34m-\u001b[0m\u001b[0;36m180\u001b[0m\u001b[0;34m<=\u001b[0m\u001b[0mlon\u001b[0m\u001b[0;34m<=\u001b[0m\u001b[0;36m180\u001b[0m\u001b[0;34m)\u001b[0m\u001b[0;34m:\u001b[0m\u001b[0;34m\u001b[0m\u001b[0;34m\u001b[0m\u001b[0m\n\u001b[0;32m--> 154\u001b[0;31m             \u001b[0;32mraise\u001b[0m \u001b[0mValueError\u001b[0m\u001b[0;34m(\u001b[0m\u001b[0;34m\"Latitude must be within the [-180;180] interval\"\u001b[0m\u001b[0;34m)\u001b[0m\u001b[0;34m\u001b[0m\u001b[0;34m\u001b[0m\u001b[0m\n\u001b[0m\u001b[1;32m    155\u001b[0m \u001b[0;34m\u001b[0m\u001b[0m\n\u001b[1;32m    156\u001b[0m     \u001b[0;34m@\u001b[0m\u001b[0mstaticmethod\u001b[0m\u001b[0;34m\u001b[0m\u001b[0;34m\u001b[0m\u001b[0m\n",
      "\u001b[0;31mValueError\u001b[0m: Latitude must be within the [-180;180] interval"
     ]
    }
   ],
   "source": [
    "pg_k = pd.DataFrame.pg.from_latlon(k)"
   ]
  },
  {
   "cell_type": "code",
   "execution_count": 266,
   "id": "structured-increase",
   "metadata": {},
   "outputs": [
    {
     "data": {
      "text/html": [
       "<div>\n",
       "<style scoped>\n",
       "    .dataframe tbody tr th:only-of-type {\n",
       "        vertical-align: middle;\n",
       "    }\n",
       "\n",
       "    .dataframe tbody tr th {\n",
       "        vertical-align: top;\n",
       "    }\n",
       "\n",
       "    .dataframe thead th {\n",
       "        text-align: right;\n",
       "    }\n",
       "</style>\n",
       "<table border=\"1\" class=\"dataframe\">\n",
       "  <thead>\n",
       "    <tr style=\"text-align: right;\">\n",
       "      <th></th>\n",
       "      <th>lat</th>\n",
       "      <th>lon</th>\n",
       "      <th>value</th>\n",
       "      <th>pg_id</th>\n",
       "    </tr>\n",
       "  </thead>\n",
       "  <tbody>\n",
       "    <tr>\n",
       "      <th>0</th>\n",
       "      <td>2.0</td>\n",
       "      <td>923.7</td>\n",
       "      <td>5</td>\n",
       "      <td>134688</td>\n",
       "    </tr>\n",
       "    <tr>\n",
       "      <th>1</th>\n",
       "      <td>32.4</td>\n",
       "      <td>42.3</td>\n",
       "      <td>29</td>\n",
       "      <td>176125</td>\n",
       "    </tr>\n",
       "    <tr>\n",
       "      <th>2</th>\n",
       "      <td>52.4</td>\n",
       "      <td>42.1</td>\n",
       "      <td>21</td>\n",
       "      <td>204925</td>\n",
       "    </tr>\n",
       "  </tbody>\n",
       "</table>\n",
       "</div>"
      ],
      "text/plain": [
       "    lat    lon  value   pg_id\n",
       "0   2.0  923.7      5  134688\n",
       "1  32.4   42.3     29  176125\n",
       "2  52.4   42.1     21  204925"
      ]
     },
     "execution_count": 266,
     "metadata": {},
     "output_type": "execute_result"
    }
   ],
   "source": [
    "pg_k"
   ]
  },
  {
   "cell_type": "code",
   "execution_count": 267,
   "id": "biological-blackjack",
   "metadata": {},
   "outputs": [
    {
     "data": {
      "text/plain": [
       "True"
      ]
     },
     "execution_count": 267,
     "metadata": {},
     "output_type": "execute_result"
    }
   ],
   "source": [
    "pg_k.pg.is_unique#unique"
   ]
  },
  {
   "cell_type": "code",
   "execution_count": 253,
   "id": "figured-island",
   "metadata": {},
   "outputs": [
    {
     "data": {
      "text/plain": [
       "False"
      ]
     },
     "execution_count": 253,
     "metadata": {},
     "output_type": "execute_result"
    }
   ],
   "source": [
    "df.pg.views_write()"
   ]
  },
  {
   "cell_type": "code",
   "execution_count": null,
   "id": "disciplinary-stanley",
   "metadata": {},
   "outputs": [],
   "source": [
    "pd.DataFrame.pg.from_latlon(k)"
   ]
  },
  {
   "cell_type": "code",
   "execution_count": 230,
   "id": "pharmaceutical-manor",
   "metadata": {},
   "outputs": [],
   "source": [
    "assert x.pg.is_unique == True\n",
    "assert y.pg.is_unique == False\n",
    "assert pd.DataFrame.pg.from_latlon(k).pg_id.is_unique == False\n",
    "assert pd.DataFrame.pg.from_latlon(k).pg.lat[1] == 32.25 #This should be the centroid of the PG!"
   ]
  }
 ],
 "metadata": {
  "kernelspec": {
   "display_name": "Python [conda env:ingester3] *",
   "language": "python",
   "name": "conda-env-ingester3-py"
  },
  "language_info": {
   "codemirror_mode": {
    "name": "ipython",
    "version": 3
   },
   "file_extension": ".py",
   "mimetype": "text/x-python",
   "name": "python",
   "nbconvert_exporter": "python",
   "pygments_lexer": "ipython3",
   "version": "3.8.8"
  }
 },
 "nbformat": 4,
 "nbformat_minor": 5
}
